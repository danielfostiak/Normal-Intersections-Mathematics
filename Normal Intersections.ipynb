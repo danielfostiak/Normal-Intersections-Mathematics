{
 "cells": [
  {
   "cell_type": "code",
   "execution_count": 1,
   "id": "5d4b3c35",
   "metadata": {},
   "outputs": [],
   "source": [
    "# IMPORTS\n",
    "from sympy import *\n",
    "import numpy as np\n",
    "import matplotlib.pyplot as plt\n",
    "import matplotlib.colors as mcolors"
   ]
  },
  {
   "cell_type": "code",
   "execution_count": 16,
   "id": "039362c0",
   "metadata": {},
   "outputs": [],
   "source": [
    "# DEFINING FUNCTIONS\n",
    "x = symbols('x')\n",
    "f = x**4 # original function\n",
    "df = diff(f, x) # derivative function"
   ]
  },
  {
   "cell_type": "code",
   "execution_count": 13,
   "id": "ceeaadc3",
   "metadata": {},
   "outputs": [],
   "source": [
    "# COUNTING NORMALS\n",
    "def normal_count(X,Y):\n",
    "    eq = (x-X)+(df)*(f)-(df)*Y # Polynomial which has roots dictating x-coordinates of normals that intersect point (X,Y)\n",
    "    coefficients = eq.as_poly().all_coeffs()\n",
    "    roots = np.roots(coefficients)\n",
    "    real_roots = roots[np.isreal(roots)].real\n",
    "    return len(real_roots)"
   ]
  },
  {
   "cell_type": "code",
   "execution_count": 17,
   "id": "63b02e5f",
   "metadata": {},
   "outputs": [
    {
     "data": {
      "image/png": "[encoded data removed]",
      "text/plain": [
       "<Figure size 432x288 with 2 Axes>"
      ]
     },
     "metadata": {
      "needs_background": "light"
     },
     "output_type": "display_data"
    }
   ],
   "source": [
    "# PLOTTING\n",
    "DETAIL = 200 # Be careful changing this, higher numbers slow down performance\n",
    "\n",
    "x_min, x_max = -5, 5\n",
    "y_min, y_max = -5, 5\n",
    "\n",
    "x_range = np.linspace(x_min, x_max, DETAIL)\n",
    "y_range = np.linspace(y_min, y_max, DETAIL)\n",
    "\n",
    "X, Y = np.meshgrid(x_range, y_range)\n",
    "\n",
    "vectorized_function = np.vectorize(normal_count)\n",
    "Z = vectorized_function(X, Y)\n",
    "\n",
    "colors = plt.cm.tab10.colors[:10]\n",
    "cmap_custom = mcolors.ListedColormap(colors)\n",
    "\n",
    "cmap_custom = mcolors.ListedColormap(colors)\n",
    "\n",
    "plt.pcolormesh(X, Y, Z, cmap=cmap_custom, vmin=1, vmax=10, shading='auto')\n",
    "\n",
    "colorbar = plt.colorbar(ticks=np.arange(1, 11))\n",
    "colorbar.set_label('# Normals')\n",
    "\n",
    "plt.xlabel('x')\n",
    "plt.ylabel('y')\n",
    "plt.title(f'Shading the Cartesian plane by how many normals of {f} intersect')\n",
    "plt.axis('equal')\n",
    "plt.tight_layout()\n",
    "plt.axhline(0, color='black', linewidth=0.5)\n",
    "plt.axvline(0, color='black', linewidth=0.5)\n",
    "plt.box()\n",
    "plt.show()"
   ]
  },
  {
   "cell_type": "code",
   "execution_count": null,
   "id": "707d9b26",
   "metadata": {},
   "outputs": [],
   "source": []
  }
 ],
 "metadata": {
  "kernelspec": {
   "display_name": "Python 3 (ipykernel)",
   "language": "python",
   "name": "python3"
  },
  "language_info": {
   "codemirror_mode": {
    "name": "ipython",
    "version": 3
   },
   "file_extension": ".py",
   "mimetype": "text/x-python",
   "name": "python",
   "nbconvert_exporter": "python",
   "pygments_lexer": "ipython3",
   "version": "3.9.7"
  }
 },
 "nbformat": 4,
 "nbformat_minor": 5
}
